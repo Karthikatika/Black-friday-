{
 "cells": [
  {
   "cell_type": "code",
   "execution_count": 193,
   "id": "620dc80b",
   "metadata": {},
   "outputs": [],
   "source": [
    "#import data\n",
    "import pandas as pd\n",
    "import numpy as np\n",
    "import matplotlib.pyplot as plt\n",
    "import seaborn as sns\n",
    "from scipy import stats\n",
    "import statsmodels.api as sm\n",
    "from scipy.stats import pearsonr\n",
    "from sklearn.model_selection import train_test_split\n",
    "from sklearn.metrics import mean_squared_error"
   ]
  },
  {
   "cell_type": "code",
   "execution_count": 194,
   "id": "d28027ab",
   "metadata": {},
   "outputs": [],
   "source": [
    "friday=pd.read_csv(\"C:/Users/karthika/Downloads/Blackfridayyy.csv\")"
   ]
  },
  {
   "cell_type": "code",
   "execution_count": 195,
   "id": "31edd342",
   "metadata": {},
   "outputs": [
    {
     "data": {
      "text/html": [
       "<div>\n",
       "<style scoped>\n",
       "    .dataframe tbody tr th:only-of-type {\n",
       "        vertical-align: middle;\n",
       "    }\n",
       "\n",
       "    .dataframe tbody tr th {\n",
       "        vertical-align: top;\n",
       "    }\n",
       "\n",
       "    .dataframe thead th {\n",
       "        text-align: right;\n",
       "    }\n",
       "</style>\n",
       "<table border=\"1\" class=\"dataframe\">\n",
       "  <thead>\n",
       "    <tr style=\"text-align: right;\">\n",
       "      <th></th>\n",
       "      <th>User_ID</th>\n",
       "      <th>Product_ID</th>\n",
       "      <th>Gender</th>\n",
       "      <th>Age</th>\n",
       "      <th>Occupation</th>\n",
       "      <th>City_Category</th>\n",
       "      <th>Stay_In_Current_City_Years</th>\n",
       "      <th>Marital_Status</th>\n",
       "      <th>Product_Category_1</th>\n",
       "      <th>Product_Category_2</th>\n",
       "      <th>Product_Category_3</th>\n",
       "      <th>Purchase</th>\n",
       "    </tr>\n",
       "  </thead>\n",
       "  <tbody>\n",
       "    <tr>\n",
       "      <th>0</th>\n",
       "      <td>1000001</td>\n",
       "      <td>P00069042</td>\n",
       "      <td>F</td>\n",
       "      <td>0-17</td>\n",
       "      <td>10</td>\n",
       "      <td>A</td>\n",
       "      <td>2</td>\n",
       "      <td>0</td>\n",
       "      <td>3</td>\n",
       "      <td>NaN</td>\n",
       "      <td>NaN</td>\n",
       "      <td>8370</td>\n",
       "    </tr>\n",
       "    <tr>\n",
       "      <th>1</th>\n",
       "      <td>1000001</td>\n",
       "      <td>P00248942</td>\n",
       "      <td>F</td>\n",
       "      <td>0-17</td>\n",
       "      <td>10</td>\n",
       "      <td>A</td>\n",
       "      <td>2</td>\n",
       "      <td>0</td>\n",
       "      <td>1</td>\n",
       "      <td>6.0</td>\n",
       "      <td>14.0</td>\n",
       "      <td>15200</td>\n",
       "    </tr>\n",
       "    <tr>\n",
       "      <th>2</th>\n",
       "      <td>1000001</td>\n",
       "      <td>P00087842</td>\n",
       "      <td>F</td>\n",
       "      <td>0-17</td>\n",
       "      <td>10</td>\n",
       "      <td>A</td>\n",
       "      <td>2</td>\n",
       "      <td>0</td>\n",
       "      <td>12</td>\n",
       "      <td>NaN</td>\n",
       "      <td>NaN</td>\n",
       "      <td>1422</td>\n",
       "    </tr>\n",
       "    <tr>\n",
       "      <th>3</th>\n",
       "      <td>1000001</td>\n",
       "      <td>P00085442</td>\n",
       "      <td>F</td>\n",
       "      <td>0-17</td>\n",
       "      <td>10</td>\n",
       "      <td>A</td>\n",
       "      <td>2</td>\n",
       "      <td>0</td>\n",
       "      <td>12</td>\n",
       "      <td>14.0</td>\n",
       "      <td>NaN</td>\n",
       "      <td>1057</td>\n",
       "    </tr>\n",
       "    <tr>\n",
       "      <th>4</th>\n",
       "      <td>1000002</td>\n",
       "      <td>P00285442</td>\n",
       "      <td>M</td>\n",
       "      <td>55+</td>\n",
       "      <td>16</td>\n",
       "      <td>C</td>\n",
       "      <td>4+</td>\n",
       "      <td>0</td>\n",
       "      <td>8</td>\n",
       "      <td>NaN</td>\n",
       "      <td>NaN</td>\n",
       "      <td>7969</td>\n",
       "    </tr>\n",
       "  </tbody>\n",
       "</table>\n",
       "</div>"
      ],
      "text/plain": [
       "   User_ID Product_ID Gender   Age  Occupation City_Category  \\\n",
       "0  1000001  P00069042      F  0-17          10             A   \n",
       "1  1000001  P00248942      F  0-17          10             A   \n",
       "2  1000001  P00087842      F  0-17          10             A   \n",
       "3  1000001  P00085442      F  0-17          10             A   \n",
       "4  1000002  P00285442      M   55+          16             C   \n",
       "\n",
       "  Stay_In_Current_City_Years  Marital_Status  Product_Category_1  \\\n",
       "0                          2               0                   3   \n",
       "1                          2               0                   1   \n",
       "2                          2               0                  12   \n",
       "3                          2               0                  12   \n",
       "4                         4+               0                   8   \n",
       "\n",
       "   Product_Category_2  Product_Category_3  Purchase  \n",
       "0                 NaN                 NaN      8370  \n",
       "1                 6.0                14.0     15200  \n",
       "2                 NaN                 NaN      1422  \n",
       "3                14.0                 NaN      1057  \n",
       "4                 NaN                 NaN      7969  "
      ]
     },
     "execution_count": 195,
     "metadata": {},
     "output_type": "execute_result"
    }
   ],
   "source": [
    "friday.head()"
   ]
  },
  {
   "cell_type": "code",
   "execution_count": 196,
   "id": "094aaadb",
   "metadata": {},
   "outputs": [
    {
     "data": {
      "text/html": [
       "<div>\n",
       "<style scoped>\n",
       "    .dataframe tbody tr th:only-of-type {\n",
       "        vertical-align: middle;\n",
       "    }\n",
       "\n",
       "    .dataframe tbody tr th {\n",
       "        vertical-align: top;\n",
       "    }\n",
       "\n",
       "    .dataframe thead th {\n",
       "        text-align: right;\n",
       "    }\n",
       "</style>\n",
       "<table border=\"1\" class=\"dataframe\">\n",
       "  <thead>\n",
       "    <tr style=\"text-align: right;\">\n",
       "      <th></th>\n",
       "      <th>User_ID</th>\n",
       "      <th>Product_ID</th>\n",
       "      <th>Gender</th>\n",
       "      <th>Age</th>\n",
       "      <th>Occupation</th>\n",
       "      <th>City_Category</th>\n",
       "      <th>Stay_In_Current_City_Years</th>\n",
       "      <th>Marital_Status</th>\n",
       "      <th>Product_Category_1</th>\n",
       "      <th>Product_Category_2</th>\n",
       "      <th>Product_Category_3</th>\n",
       "      <th>Purchase</th>\n",
       "    </tr>\n",
       "  </thead>\n",
       "  <tbody>\n",
       "    <tr>\n",
       "      <th>550063</th>\n",
       "      <td>1006033</td>\n",
       "      <td>P00372445</td>\n",
       "      <td>M</td>\n",
       "      <td>51-55</td>\n",
       "      <td>13</td>\n",
       "      <td>B</td>\n",
       "      <td>1</td>\n",
       "      <td>1</td>\n",
       "      <td>20</td>\n",
       "      <td>NaN</td>\n",
       "      <td>NaN</td>\n",
       "      <td>368</td>\n",
       "    </tr>\n",
       "    <tr>\n",
       "      <th>550064</th>\n",
       "      <td>1006035</td>\n",
       "      <td>P00375436</td>\n",
       "      <td>F</td>\n",
       "      <td>26-35</td>\n",
       "      <td>1</td>\n",
       "      <td>C</td>\n",
       "      <td>3</td>\n",
       "      <td>0</td>\n",
       "      <td>20</td>\n",
       "      <td>NaN</td>\n",
       "      <td>NaN</td>\n",
       "      <td>371</td>\n",
       "    </tr>\n",
       "    <tr>\n",
       "      <th>550065</th>\n",
       "      <td>1006036</td>\n",
       "      <td>P00375436</td>\n",
       "      <td>F</td>\n",
       "      <td>26-35</td>\n",
       "      <td>15</td>\n",
       "      <td>B</td>\n",
       "      <td>4+</td>\n",
       "      <td>1</td>\n",
       "      <td>20</td>\n",
       "      <td>NaN</td>\n",
       "      <td>NaN</td>\n",
       "      <td>137</td>\n",
       "    </tr>\n",
       "    <tr>\n",
       "      <th>550066</th>\n",
       "      <td>1006038</td>\n",
       "      <td>P00375436</td>\n",
       "      <td>F</td>\n",
       "      <td>55+</td>\n",
       "      <td>1</td>\n",
       "      <td>C</td>\n",
       "      <td>2</td>\n",
       "      <td>0</td>\n",
       "      <td>20</td>\n",
       "      <td>NaN</td>\n",
       "      <td>NaN</td>\n",
       "      <td>365</td>\n",
       "    </tr>\n",
       "    <tr>\n",
       "      <th>550067</th>\n",
       "      <td>1006039</td>\n",
       "      <td>P00371644</td>\n",
       "      <td>F</td>\n",
       "      <td>46-50</td>\n",
       "      <td>0</td>\n",
       "      <td>B</td>\n",
       "      <td>4+</td>\n",
       "      <td>1</td>\n",
       "      <td>20</td>\n",
       "      <td>NaN</td>\n",
       "      <td>NaN</td>\n",
       "      <td>490</td>\n",
       "    </tr>\n",
       "  </tbody>\n",
       "</table>\n",
       "</div>"
      ],
      "text/plain": [
       "        User_ID Product_ID Gender    Age  Occupation City_Category  \\\n",
       "550063  1006033  P00372445      M  51-55          13             B   \n",
       "550064  1006035  P00375436      F  26-35           1             C   \n",
       "550065  1006036  P00375436      F  26-35          15             B   \n",
       "550066  1006038  P00375436      F    55+           1             C   \n",
       "550067  1006039  P00371644      F  46-50           0             B   \n",
       "\n",
       "       Stay_In_Current_City_Years  Marital_Status  Product_Category_1  \\\n",
       "550063                          1               1                  20   \n",
       "550064                          3               0                  20   \n",
       "550065                         4+               1                  20   \n",
       "550066                          2               0                  20   \n",
       "550067                         4+               1                  20   \n",
       "\n",
       "        Product_Category_2  Product_Category_3  Purchase  \n",
       "550063                 NaN                 NaN       368  \n",
       "550064                 NaN                 NaN       371  \n",
       "550065                 NaN                 NaN       137  \n",
       "550066                 NaN                 NaN       365  \n",
       "550067                 NaN                 NaN       490  "
      ]
     },
     "execution_count": 196,
     "metadata": {},
     "output_type": "execute_result"
    }
   ],
   "source": [
    "friday.tail()"
   ]
  },
  {
   "cell_type": "code",
   "execution_count": 197,
   "id": "65274dcd",
   "metadata": {},
   "outputs": [
    {
     "data": {
      "text/html": [
       "<div>\n",
       "<style scoped>\n",
       "    .dataframe tbody tr th:only-of-type {\n",
       "        vertical-align: middle;\n",
       "    }\n",
       "\n",
       "    .dataframe tbody tr th {\n",
       "        vertical-align: top;\n",
       "    }\n",
       "\n",
       "    .dataframe thead th {\n",
       "        text-align: right;\n",
       "    }\n",
       "</style>\n",
       "<table border=\"1\" class=\"dataframe\">\n",
       "  <thead>\n",
       "    <tr style=\"text-align: right;\">\n",
       "      <th></th>\n",
       "      <th>User_ID</th>\n",
       "      <th>Occupation</th>\n",
       "      <th>Marital_Status</th>\n",
       "      <th>Product_Category_1</th>\n",
       "      <th>Product_Category_2</th>\n",
       "      <th>Product_Category_3</th>\n",
       "      <th>Purchase</th>\n",
       "    </tr>\n",
       "  </thead>\n",
       "  <tbody>\n",
       "    <tr>\n",
       "      <th>count</th>\n",
       "      <td>5.500680e+05</td>\n",
       "      <td>550068.000000</td>\n",
       "      <td>550068.000000</td>\n",
       "      <td>550068.000000</td>\n",
       "      <td>376430.000000</td>\n",
       "      <td>166821.000000</td>\n",
       "      <td>550068.000000</td>\n",
       "    </tr>\n",
       "    <tr>\n",
       "      <th>mean</th>\n",
       "      <td>1.003029e+06</td>\n",
       "      <td>8.076707</td>\n",
       "      <td>0.409653</td>\n",
       "      <td>5.404270</td>\n",
       "      <td>9.842329</td>\n",
       "      <td>12.668243</td>\n",
       "      <td>9263.968713</td>\n",
       "    </tr>\n",
       "    <tr>\n",
       "      <th>std</th>\n",
       "      <td>1.727592e+03</td>\n",
       "      <td>6.522660</td>\n",
       "      <td>0.491770</td>\n",
       "      <td>3.936211</td>\n",
       "      <td>5.086590</td>\n",
       "      <td>4.125338</td>\n",
       "      <td>5023.065394</td>\n",
       "    </tr>\n",
       "    <tr>\n",
       "      <th>min</th>\n",
       "      <td>1.000001e+06</td>\n",
       "      <td>0.000000</td>\n",
       "      <td>0.000000</td>\n",
       "      <td>1.000000</td>\n",
       "      <td>2.000000</td>\n",
       "      <td>3.000000</td>\n",
       "      <td>12.000000</td>\n",
       "    </tr>\n",
       "    <tr>\n",
       "      <th>25%</th>\n",
       "      <td>1.001516e+06</td>\n",
       "      <td>2.000000</td>\n",
       "      <td>0.000000</td>\n",
       "      <td>1.000000</td>\n",
       "      <td>5.000000</td>\n",
       "      <td>9.000000</td>\n",
       "      <td>5823.000000</td>\n",
       "    </tr>\n",
       "    <tr>\n",
       "      <th>50%</th>\n",
       "      <td>1.003077e+06</td>\n",
       "      <td>7.000000</td>\n",
       "      <td>0.000000</td>\n",
       "      <td>5.000000</td>\n",
       "      <td>9.000000</td>\n",
       "      <td>14.000000</td>\n",
       "      <td>8047.000000</td>\n",
       "    </tr>\n",
       "    <tr>\n",
       "      <th>75%</th>\n",
       "      <td>1.004478e+06</td>\n",
       "      <td>14.000000</td>\n",
       "      <td>1.000000</td>\n",
       "      <td>8.000000</td>\n",
       "      <td>15.000000</td>\n",
       "      <td>16.000000</td>\n",
       "      <td>12054.000000</td>\n",
       "    </tr>\n",
       "    <tr>\n",
       "      <th>max</th>\n",
       "      <td>1.006040e+06</td>\n",
       "      <td>20.000000</td>\n",
       "      <td>1.000000</td>\n",
       "      <td>20.000000</td>\n",
       "      <td>18.000000</td>\n",
       "      <td>18.000000</td>\n",
       "      <td>23961.000000</td>\n",
       "    </tr>\n",
       "  </tbody>\n",
       "</table>\n",
       "</div>"
      ],
      "text/plain": [
       "            User_ID     Occupation  Marital_Status  Product_Category_1  \\\n",
       "count  5.500680e+05  550068.000000   550068.000000       550068.000000   \n",
       "mean   1.003029e+06       8.076707        0.409653            5.404270   \n",
       "std    1.727592e+03       6.522660        0.491770            3.936211   \n",
       "min    1.000001e+06       0.000000        0.000000            1.000000   \n",
       "25%    1.001516e+06       2.000000        0.000000            1.000000   \n",
       "50%    1.003077e+06       7.000000        0.000000            5.000000   \n",
       "75%    1.004478e+06      14.000000        1.000000            8.000000   \n",
       "max    1.006040e+06      20.000000        1.000000           20.000000   \n",
       "\n",
       "       Product_Category_2  Product_Category_3       Purchase  \n",
       "count       376430.000000       166821.000000  550068.000000  \n",
       "mean             9.842329           12.668243    9263.968713  \n",
       "std              5.086590            4.125338    5023.065394  \n",
       "min              2.000000            3.000000      12.000000  \n",
       "25%              5.000000            9.000000    5823.000000  \n",
       "50%              9.000000           14.000000    8047.000000  \n",
       "75%             15.000000           16.000000   12054.000000  \n",
       "max             18.000000           18.000000   23961.000000  "
      ]
     },
     "execution_count": 197,
     "metadata": {},
     "output_type": "execute_result"
    }
   ],
   "source": [
    "friday.describe()"
   ]
  },
  {
   "cell_type": "code",
   "execution_count": 198,
   "id": "2182988f",
   "metadata": {},
   "outputs": [
    {
     "data": {
      "text/plain": [
       "User_ID                            0\n",
       "Product_ID                         0\n",
       "Gender                             0\n",
       "Age                                0\n",
       "Occupation                         0\n",
       "City_Category                      0\n",
       "Stay_In_Current_City_Years         0\n",
       "Marital_Status                     0\n",
       "Product_Category_1                 0\n",
       "Product_Category_2            173638\n",
       "Product_Category_3            383247\n",
       "Purchase                           0\n",
       "dtype: int64"
      ]
     },
     "execution_count": 198,
     "metadata": {},
     "output_type": "execute_result"
    }
   ],
   "source": [
    "friday.isnull().sum()"
   ]
  },
  {
   "cell_type": "code",
   "execution_count": 199,
   "id": "74ce0ef2",
   "metadata": {},
   "outputs": [
    {
     "name": "stdout",
     "output_type": "stream",
     "text": [
      "<class 'pandas.core.frame.DataFrame'>\n",
      "RangeIndex: 550068 entries, 0 to 550067\n",
      "Data columns (total 12 columns):\n",
      " #   Column                      Non-Null Count   Dtype  \n",
      "---  ------                      --------------   -----  \n",
      " 0   User_ID                     550068 non-null  int64  \n",
      " 1   Product_ID                  550068 non-null  object \n",
      " 2   Gender                      550068 non-null  object \n",
      " 3   Age                         550068 non-null  object \n",
      " 4   Occupation                  550068 non-null  int64  \n",
      " 5   City_Category               550068 non-null  object \n",
      " 6   Stay_In_Current_City_Years  550068 non-null  object \n",
      " 7   Marital_Status              550068 non-null  int64  \n",
      " 8   Product_Category_1          550068 non-null  int64  \n",
      " 9   Product_Category_2          376430 non-null  float64\n",
      " 10  Product_Category_3          166821 non-null  float64\n",
      " 11  Purchase                    550068 non-null  int64  \n",
      "dtypes: float64(2), int64(5), object(5)\n",
      "memory usage: 50.4+ MB\n"
     ]
    }
   ],
   "source": [
    "friday.info()"
   ]
  },
  {
   "cell_type": "code",
   "execution_count": 126,
   "id": "7afc6bd5",
   "metadata": {},
   "outputs": [
    {
     "data": {
      "text/html": [
       "<div>\n",
       "<style scoped>\n",
       "    .dataframe tbody tr th:only-of-type {\n",
       "        vertical-align: middle;\n",
       "    }\n",
       "\n",
       "    .dataframe tbody tr th {\n",
       "        vertical-align: top;\n",
       "    }\n",
       "\n",
       "    .dataframe thead th {\n",
       "        text-align: right;\n",
       "    }\n",
       "</style>\n",
       "<table border=\"1\" class=\"dataframe\">\n",
       "  <thead>\n",
       "    <tr style=\"text-align: right;\">\n",
       "      <th></th>\n",
       "      <th>Gender</th>\n",
       "      <th>Age</th>\n",
       "      <th>Occupation</th>\n",
       "      <th>City_Category</th>\n",
       "      <th>Stay_In_Current_City_Years</th>\n",
       "      <th>Marital_Status</th>\n",
       "      <th>Product_Category_1</th>\n",
       "      <th>Product_Category_2</th>\n",
       "      <th>Purchase</th>\n",
       "    </tr>\n",
       "  </thead>\n",
       "  <tbody>\n",
       "    <tr>\n",
       "      <th>0</th>\n",
       "      <td>F</td>\n",
       "      <td>0-17</td>\n",
       "      <td>10</td>\n",
       "      <td>A</td>\n",
       "      <td>2</td>\n",
       "      <td>0</td>\n",
       "      <td>3</td>\n",
       "      <td>NaN</td>\n",
       "      <td>8370</td>\n",
       "    </tr>\n",
       "    <tr>\n",
       "      <th>1</th>\n",
       "      <td>F</td>\n",
       "      <td>0-17</td>\n",
       "      <td>10</td>\n",
       "      <td>A</td>\n",
       "      <td>2</td>\n",
       "      <td>0</td>\n",
       "      <td>1</td>\n",
       "      <td>6.0</td>\n",
       "      <td>15200</td>\n",
       "    </tr>\n",
       "    <tr>\n",
       "      <th>2</th>\n",
       "      <td>F</td>\n",
       "      <td>0-17</td>\n",
       "      <td>10</td>\n",
       "      <td>A</td>\n",
       "      <td>2</td>\n",
       "      <td>0</td>\n",
       "      <td>12</td>\n",
       "      <td>NaN</td>\n",
       "      <td>1422</td>\n",
       "    </tr>\n",
       "    <tr>\n",
       "      <th>3</th>\n",
       "      <td>F</td>\n",
       "      <td>0-17</td>\n",
       "      <td>10</td>\n",
       "      <td>A</td>\n",
       "      <td>2</td>\n",
       "      <td>0</td>\n",
       "      <td>12</td>\n",
       "      <td>14.0</td>\n",
       "      <td>1057</td>\n",
       "    </tr>\n",
       "    <tr>\n",
       "      <th>4</th>\n",
       "      <td>M</td>\n",
       "      <td>55+</td>\n",
       "      <td>16</td>\n",
       "      <td>C</td>\n",
       "      <td>4+</td>\n",
       "      <td>0</td>\n",
       "      <td>8</td>\n",
       "      <td>NaN</td>\n",
       "      <td>7969</td>\n",
       "    </tr>\n",
       "    <tr>\n",
       "      <th>...</th>\n",
       "      <td>...</td>\n",
       "      <td>...</td>\n",
       "      <td>...</td>\n",
       "      <td>...</td>\n",
       "      <td>...</td>\n",
       "      <td>...</td>\n",
       "      <td>...</td>\n",
       "      <td>...</td>\n",
       "      <td>...</td>\n",
       "    </tr>\n",
       "    <tr>\n",
       "      <th>550063</th>\n",
       "      <td>M</td>\n",
       "      <td>51-55</td>\n",
       "      <td>13</td>\n",
       "      <td>B</td>\n",
       "      <td>1</td>\n",
       "      <td>1</td>\n",
       "      <td>20</td>\n",
       "      <td>NaN</td>\n",
       "      <td>368</td>\n",
       "    </tr>\n",
       "    <tr>\n",
       "      <th>550064</th>\n",
       "      <td>F</td>\n",
       "      <td>26-35</td>\n",
       "      <td>1</td>\n",
       "      <td>C</td>\n",
       "      <td>3</td>\n",
       "      <td>0</td>\n",
       "      <td>20</td>\n",
       "      <td>NaN</td>\n",
       "      <td>371</td>\n",
       "    </tr>\n",
       "    <tr>\n",
       "      <th>550065</th>\n",
       "      <td>F</td>\n",
       "      <td>26-35</td>\n",
       "      <td>15</td>\n",
       "      <td>B</td>\n",
       "      <td>4+</td>\n",
       "      <td>1</td>\n",
       "      <td>20</td>\n",
       "      <td>NaN</td>\n",
       "      <td>137</td>\n",
       "    </tr>\n",
       "    <tr>\n",
       "      <th>550066</th>\n",
       "      <td>F</td>\n",
       "      <td>55+</td>\n",
       "      <td>1</td>\n",
       "      <td>C</td>\n",
       "      <td>2</td>\n",
       "      <td>0</td>\n",
       "      <td>20</td>\n",
       "      <td>NaN</td>\n",
       "      <td>365</td>\n",
       "    </tr>\n",
       "    <tr>\n",
       "      <th>550067</th>\n",
       "      <td>F</td>\n",
       "      <td>46-50</td>\n",
       "      <td>0</td>\n",
       "      <td>B</td>\n",
       "      <td>4+</td>\n",
       "      <td>1</td>\n",
       "      <td>20</td>\n",
       "      <td>NaN</td>\n",
       "      <td>490</td>\n",
       "    </tr>\n",
       "  </tbody>\n",
       "</table>\n",
       "<p>550068 rows × 9 columns</p>\n",
       "</div>"
      ],
      "text/plain": [
       "       Gender    Age  Occupation City_Category Stay_In_Current_City_Years  \\\n",
       "0           F   0-17          10             A                          2   \n",
       "1           F   0-17          10             A                          2   \n",
       "2           F   0-17          10             A                          2   \n",
       "3           F   0-17          10             A                          2   \n",
       "4           M    55+          16             C                         4+   \n",
       "...       ...    ...         ...           ...                        ...   \n",
       "550063      M  51-55          13             B                          1   \n",
       "550064      F  26-35           1             C                          3   \n",
       "550065      F  26-35          15             B                         4+   \n",
       "550066      F    55+           1             C                          2   \n",
       "550067      F  46-50           0             B                         4+   \n",
       "\n",
       "        Marital_Status  Product_Category_1  Product_Category_2  Purchase  \n",
       "0                    0                   3                 NaN      8370  \n",
       "1                    0                   1                 6.0     15200  \n",
       "2                    0                  12                 NaN      1422  \n",
       "3                    0                  12                14.0      1057  \n",
       "4                    0                   8                 NaN      7969  \n",
       "...                ...                 ...                 ...       ...  \n",
       "550063               1                  20                 NaN       368  \n",
       "550064               0                  20                 NaN       371  \n",
       "550065               1                  20                 NaN       137  \n",
       "550066               0                  20                 NaN       365  \n",
       "550067               1                  20                 NaN       490  \n",
       "\n",
       "[550068 rows x 9 columns]"
      ]
     },
     "execution_count": 126,
     "metadata": {},
     "output_type": "execute_result"
    }
   ],
   "source": [
    "friday.drop(['User_ID','Product_Category_3','Product_ID'],axis=1)"
   ]
  },
  {
   "cell_type": "code",
   "execution_count": 200,
   "id": "d12f5712",
   "metadata": {},
   "outputs": [],
   "source": [
    "friday.Product_Category_2.fillna('others',inplace=True)"
   ]
  },
  {
   "cell_type": "code",
   "execution_count": 201,
   "id": "8d4da608",
   "metadata": {},
   "outputs": [
    {
     "data": {
      "text/plain": [
       "array(['A', 'C', 'B'], dtype=object)"
      ]
     },
     "execution_count": 201,
     "metadata": {},
     "output_type": "execute_result"
    }
   ],
   "source": [
    "friday.City_Category.unique()"
   ]
  },
  {
   "cell_type": "code",
   "execution_count": 202,
   "id": "b83f5000",
   "metadata": {},
   "outputs": [
    {
     "data": {
      "text/plain": [
       "<AxesSubplot:xlabel='City_Category', ylabel='count'>"
      ]
     },
     "execution_count": 202,
     "metadata": {},
     "output_type": "execute_result"
    },
    {
     "data": {
      "image/png": "[encoded data removed]",
      "text/plain": [
       "<Figure size 432x288 with 1 Axes>"
      ]
     },
     "metadata": {
      "needs_background": "light"
     },
     "output_type": "display_data"
    }
   ],
   "source": [
    "#City category(discrete)\n",
    "sns.countplot(x=\"City_Category\",data=friday)"
   ]
  },
  {
   "cell_type": "code",
   "execution_count": 203,
   "id": "c87caa26",
   "metadata": {},
   "outputs": [],
   "source": [
    "part1=friday.Purchase[friday.City_Category=='A']\n",
    "part2=friday.Purchase[friday.City_Category=='B']\n",
    "part3=friday.Purchase[friday.City_Category=='C']"
   ]
  },
  {
   "cell_type": "code",
   "execution_count": 204,
   "id": "2215762d",
   "metadata": {},
   "outputs": [
    {
     "data": {
      "text/plain": [
       "F_onewayResult(statistic=1130.7459610102974, pvalue=0.0)"
      ]
     },
     "execution_count": 204,
     "metadata": {},
     "output_type": "execute_result"
    }
   ],
   "source": [
    "stats.f_oneway(part1,part2,part3)"
   ]
  },
  {
   "cell_type": "code",
   "execution_count": 205,
   "id": "bf1fdbfd",
   "metadata": {},
   "outputs": [
    {
     "data": {
      "text/plain": [
       "array(['others', 6.0, 14.0, 2.0, 8.0, 15.0, 16.0, 11.0, 5.0, 3.0, 4.0,\n",
       "       12.0, 9.0, 10.0, 17.0, 13.0, 7.0, 18.0], dtype=object)"
      ]
     },
     "execution_count": 205,
     "metadata": {},
     "output_type": "execute_result"
    }
   ],
   "source": [
    "#Product_Category_2()\n",
    "friday.Product_Category_2.unique()"
   ]
  },
  {
   "cell_type": "code",
   "execution_count": 206,
   "id": "fbce6cbb",
   "metadata": {},
   "outputs": [
    {
     "data": {
      "text/plain": [
       "others    173638\n",
       "8.0        64088\n",
       "14.0       55108\n",
       "2.0        49217\n",
       "16.0       43255\n",
       "15.0       37855\n",
       "5.0        26235\n",
       "4.0        25677\n",
       "6.0        16466\n",
       "11.0       14134\n",
       "17.0       13320\n",
       "13.0       10531\n",
       "9.0         5693\n",
       "12.0        5528\n",
       "10.0        3043\n",
       "3.0         2884\n",
       "18.0        2770\n",
       "7.0          626\n",
       "Name: Product_Category_2, dtype: int64"
      ]
     },
     "execution_count": 206,
     "metadata": {},
     "output_type": "execute_result"
    }
   ],
   "source": [
    "friday.Product_Category_2.value_counts()"
   ]
  },
  {
   "cell_type": "code",
   "execution_count": 207,
   "id": "0d6ab658",
   "metadata": {},
   "outputs": [],
   "source": [
    "part1=friday.Purchase[friday.Product_Category_2==8.0]\n",
    "part2=friday.Purchase[friday.Product_Category_2==14.0]\n",
    "part3=friday.Purchase[friday.Product_Category_2==2.0]\n",
    "part4=friday.Purchase[friday.Product_Category_2==16.0]\n",
    "part5=friday.Purchase[friday.Product_Category_2==15.0]\n",
    "part6=friday.Purchase[friday.Product_Category_2==5.0]\n",
    "part7=friday.Purchase[friday.Product_Category_2==4.0]\n",
    "part8=friday.Purchase[friday.Product_Category_2==6.0]\n",
    "part9=friday.Purchase[friday.Product_Category_2==11.0]\n",
    "part10=friday.Purchase[friday.Product_Category_2==17.0]\n",
    "part11=friday.Purchase[friday.Product_Category_2==13.0]\n",
    "part12=friday.Purchase[friday.Product_Category_2==9.0]\n",
    "part13=friday.Purchase[friday.Product_Category_2==12.0]\n",
    "part14=friday.Purchase[friday.Product_Category_2==10.0]\n",
    "part15=friday.Purchase[friday.Product_Category_2==3.0]\n",
    "part16=friday.Purchase[friday.Product_Category_2==18.0]\n",
    "part17=friday.Purchase[friday.Product_Category_2==7.0]\n"
   ]
  },
  {
   "cell_type": "code",
   "execution_count": 208,
   "id": "a0214286",
   "metadata": {},
   "outputs": [
    {
     "data": {
      "text/plain": [
       "F_onewayResult(statistic=3787.492550622429, pvalue=0.0)"
      ]
     },
     "execution_count": 208,
     "metadata": {},
     "output_type": "execute_result"
    }
   ],
   "source": [
    "stats.f_oneway(part1,part2,part3,part4,part5,part6,part7,part8,part9,part10,part11,part12,part13,part14,part15,part16,part17)"
   ]
  },
  {
   "cell_type": "code",
   "execution_count": 209,
   "id": "95251988",
   "metadata": {},
   "outputs": [],
   "source": [
    "y=friday.Purchase\n",
    "x=friday[['Gender','Age','Occupation','City_Category','Stay_In_Current_City_Years','Product_Category_1','Product_Category_2']]"
   ]
  },
  {
   "cell_type": "code",
   "execution_count": 210,
   "id": "5a284409",
   "metadata": {},
   "outputs": [],
   "source": [
    "train_x,test_x,train_y,test_y=train_test_split(x,y,train_size=0.8,test_size=0.2,random_state=100)"
   ]
  },
  {
   "cell_type": "code",
   "execution_count": 211,
   "id": "a2fec677",
   "metadata": {},
   "outputs": [
    {
     "data": {
      "text/plain": [
       "(440054, 7)"
      ]
     },
     "execution_count": 211,
     "metadata": {},
     "output_type": "execute_result"
    }
   ],
   "source": [
    "train_x.shape"
   ]
  },
  {
   "cell_type": "code",
   "execution_count": 212,
   "id": "daafab2f",
   "metadata": {},
   "outputs": [
    {
     "data": {
      "text/plain": [
       "(110014, 7)"
      ]
     },
     "execution_count": 212,
     "metadata": {},
     "output_type": "execute_result"
    }
   ],
   "source": [
    "test_x.shape"
   ]
  },
  {
   "cell_type": "code",
   "execution_count": 213,
   "id": "4a4c6e95",
   "metadata": {},
   "outputs": [
    {
     "name": "stderr",
     "output_type": "stream",
     "text": [
      "C:\\Users\\karthika\\anaconda3\\lib\\site-packages\\seaborn\\_decorators.py:36: FutureWarning: Pass the following variable as a keyword arg: x. From version 0.12, the only valid positional argument will be `data`, and passing other arguments without an explicit keyword will result in an error or misinterpretation.\n",
      "  warnings.warn(\n"
     ]
    },
    {
     "data": {
      "text/plain": [
       "<AxesSubplot:xlabel='Gender', ylabel='count'>"
      ]
     },
     "execution_count": 213,
     "metadata": {},
     "output_type": "execute_result"
    },
    {
     "data": {
      "image/png": "[encoded data removed]",
      "text/plain": [
       "<Figure size 432x288 with 1 Axes>"
      ]
     },
     "metadata": {
      "needs_background": "light"
     },
     "output_type": "display_data"
    }
   ],
   "source": [
    "sns.countplot(friday.Gender)"
   ]
  },
  {
   "cell_type": "code",
   "execution_count": 214,
   "id": "f497e93d",
   "metadata": {},
   "outputs": [
    {
     "data": {
      "text/plain": [
       "array(['0-17', '55+', '26-35', '46-50', '51-55', '36-45', '18-25'],\n",
       "      dtype=object)"
      ]
     },
     "execution_count": 214,
     "metadata": {},
     "output_type": "execute_result"
    }
   ],
   "source": [
    "friday.Age.unique()"
   ]
  },
  {
   "cell_type": "code",
   "execution_count": 215,
   "id": "cb83538d",
   "metadata": {},
   "outputs": [
    {
     "name": "stderr",
     "output_type": "stream",
     "text": [
      "C:\\Users\\karthika\\anaconda3\\lib\\site-packages\\seaborn\\_decorators.py:36: FutureWarning: Pass the following variable as a keyword arg: x. From version 0.12, the only valid positional argument will be `data`, and passing other arguments without an explicit keyword will result in an error or misinterpretation.\n",
      "  warnings.warn(\n"
     ]
    },
    {
     "data": {
      "text/plain": [
       "<AxesSubplot:xlabel='Age', ylabel='count'>"
      ]
     },
     "execution_count": 215,
     "metadata": {},
     "output_type": "execute_result"
    },
    {
     "data": {
      "image/png": "[encoded data removed]",
      "text/plain": [
       "<Figure size 432x288 with 1 Axes>"
      ]
     },
     "metadata": {
      "needs_background": "light"
     },
     "output_type": "display_data"
    }
   ],
   "source": [
    "sns.countplot(friday.Age)"
   ]
  },
  {
   "cell_type": "code",
   "execution_count": 216,
   "id": "de57ccd0",
   "metadata": {},
   "outputs": [
    {
     "data": {
      "text/plain": [
       "array([10, 16, 15,  7, 20,  9,  1, 12, 17,  0,  3,  4, 11,  8, 19,  2, 18,\n",
       "        5, 14, 13,  6], dtype=int64)"
      ]
     },
     "execution_count": 216,
     "metadata": {},
     "output_type": "execute_result"
    }
   ],
   "source": [
    "friday.Occupation.unique()"
   ]
  },
  {
   "cell_type": "code",
   "execution_count": 217,
   "id": "28fbe587",
   "metadata": {},
   "outputs": [
    {
     "name": "stderr",
     "output_type": "stream",
     "text": [
      "C:\\Users\\karthika\\anaconda3\\lib\\site-packages\\seaborn\\_decorators.py:36: FutureWarning: Pass the following variable as a keyword arg: x. From version 0.12, the only valid positional argument will be `data`, and passing other arguments without an explicit keyword will result in an error or misinterpretation.\n",
      "  warnings.warn(\n"
     ]
    },
    {
     "data": {
      "text/plain": [
       "<AxesSubplot:xlabel='Occupation', ylabel='count'>"
      ]
     },
     "execution_count": 217,
     "metadata": {},
     "output_type": "execute_result"
    },
    {
     "data": {
      "image/png": "[encoded data removed]",
      "text/plain": [
       "<Figure size 432x288 with 1 Axes>"
      ]
     },
     "metadata": {
      "needs_background": "light"
     },
     "output_type": "display_data"
    }
   ],
   "source": [
    "sns.countplot(friday.Occupation)"
   ]
  },
  {
   "cell_type": "code",
   "execution_count": 218,
   "id": "42f440e9",
   "metadata": {},
   "outputs": [
    {
     "data": {
      "text/plain": [
       "array(['A', 'C', 'B'], dtype=object)"
      ]
     },
     "execution_count": 218,
     "metadata": {},
     "output_type": "execute_result"
    }
   ],
   "source": [
    "friday.City_Category.unique()"
   ]
  },
  {
   "cell_type": "code",
   "execution_count": 219,
   "id": "3a986787",
   "metadata": {},
   "outputs": [
    {
     "name": "stderr",
     "output_type": "stream",
     "text": [
      "C:\\Users\\karthika\\anaconda3\\lib\\site-packages\\seaborn\\_decorators.py:36: FutureWarning: Pass the following variable as a keyword arg: x. From version 0.12, the only valid positional argument will be `data`, and passing other arguments without an explicit keyword will result in an error or misinterpretation.\n",
      "  warnings.warn(\n"
     ]
    },
    {
     "data": {
      "text/plain": [
       "<AxesSubplot:xlabel='City_Category', ylabel='count'>"
      ]
     },
     "execution_count": 219,
     "metadata": {},
     "output_type": "execute_result"
    },
    {
     "data": {
      "image/png": "[encoded data removed]",
      "text/plain": [
       "<Figure size 432x288 with 1 Axes>"
      ]
     },
     "metadata": {
      "needs_background": "light"
     },
     "output_type": "display_data"
    }
   ],
   "source": [
    "sns.countplot(friday.City_Category)"
   ]
  },
  {
   "cell_type": "code",
   "execution_count": 220,
   "id": "f743bdb8",
   "metadata": {},
   "outputs": [
    {
     "data": {
      "text/plain": [
       "array(['2', '4+', '3', '1', '0'], dtype=object)"
      ]
     },
     "execution_count": 220,
     "metadata": {},
     "output_type": "execute_result"
    }
   ],
   "source": [
    "friday.Stay_In_Current_City_Years.unique()"
   ]
  },
  {
   "cell_type": "code",
   "execution_count": 221,
   "id": "1467f9ca",
   "metadata": {},
   "outputs": [
    {
     "name": "stderr",
     "output_type": "stream",
     "text": [
      "C:\\Users\\karthika\\anaconda3\\lib\\site-packages\\seaborn\\_decorators.py:36: FutureWarning: Pass the following variable as a keyword arg: x. From version 0.12, the only valid positional argument will be `data`, and passing other arguments without an explicit keyword will result in an error or misinterpretation.\n",
      "  warnings.warn(\n"
     ]
    },
    {
     "data": {
      "text/plain": [
       "<AxesSubplot:xlabel='Stay_In_Current_City_Years', ylabel='count'>"
      ]
     },
     "execution_count": 221,
     "metadata": {},
     "output_type": "execute_result"
    },
    {
     "data": {
      "image/png": "[encoded data removed]",
      "text/plain": [
       "<Figure size 432x288 with 1 Axes>"
      ]
     },
     "metadata": {
      "needs_background": "light"
     },
     "output_type": "display_data"
    }
   ],
   "source": [
    "sns.countplot(friday.Stay_In_Current_City_Years)"
   ]
  },
  {
   "cell_type": "code",
   "execution_count": 222,
   "id": "ad0322c8",
   "metadata": {},
   "outputs": [
    {
     "data": {
      "text/plain": [
       "array([0, 1], dtype=int64)"
      ]
     },
     "execution_count": 222,
     "metadata": {},
     "output_type": "execute_result"
    }
   ],
   "source": [
    "friday.Marital_Status.unique()"
   ]
  },
  {
   "cell_type": "code",
   "execution_count": 223,
   "id": "50d695c3",
   "metadata": {},
   "outputs": [
    {
     "name": "stderr",
     "output_type": "stream",
     "text": [
      "C:\\Users\\karthika\\anaconda3\\lib\\site-packages\\seaborn\\_decorators.py:36: FutureWarning: Pass the following variable as a keyword arg: x. From version 0.12, the only valid positional argument will be `data`, and passing other arguments without an explicit keyword will result in an error or misinterpretation.\n",
      "  warnings.warn(\n"
     ]
    },
    {
     "data": {
      "text/plain": [
       "<AxesSubplot:xlabel='Marital_Status', ylabel='count'>"
      ]
     },
     "execution_count": 223,
     "metadata": {},
     "output_type": "execute_result"
    },
    {
     "data": {
      "image/png": "[encoded data removed]",
      "text/plain": [
       "<Figure size 432x288 with 1 Axes>"
      ]
     },
     "metadata": {
      "needs_background": "light"
     },
     "output_type": "display_data"
    }
   ],
   "source": [
    "sns.countplot(friday.Marital_Status)"
   ]
  },
  {
   "cell_type": "code",
   "execution_count": 224,
   "id": "6f8d3390",
   "metadata": {},
   "outputs": [
    {
     "data": {
      "text/plain": [
       "array([ 3,  1, 12,  8,  5,  4,  2,  6, 14, 11, 13, 15,  7, 16, 18, 10, 17,\n",
       "        9, 20, 19], dtype=int64)"
      ]
     },
     "execution_count": 224,
     "metadata": {},
     "output_type": "execute_result"
    }
   ],
   "source": [
    "friday.Product_Category_1.unique()"
   ]
  },
  {
   "cell_type": "code",
   "execution_count": 225,
   "id": "72a21caf",
   "metadata": {},
   "outputs": [
    {
     "name": "stderr",
     "output_type": "stream",
     "text": [
      "C:\\Users\\karthika\\anaconda3\\lib\\site-packages\\seaborn\\_decorators.py:36: FutureWarning: Pass the following variable as a keyword arg: x. From version 0.12, the only valid positional argument will be `data`, and passing other arguments without an explicit keyword will result in an error or misinterpretation.\n",
      "  warnings.warn(\n"
     ]
    },
    {
     "data": {
      "text/plain": [
       "<AxesSubplot:xlabel='Product_Category_1', ylabel='count'>"
      ]
     },
     "execution_count": 225,
     "metadata": {},
     "output_type": "execute_result"
    },
    {
     "data": {
      "image/png": "[encoded data removed]",
      "text/plain": [
       "<Figure size 432x288 with 1 Axes>"
      ]
     },
     "metadata": {
      "needs_background": "light"
     },
     "output_type": "display_data"
    }
   ],
   "source": [
    "sns.countplot(friday.Product_Category_1)"
   ]
  },
  {
   "cell_type": "code",
   "execution_count": 226,
   "id": "bc43d009",
   "metadata": {},
   "outputs": [
    {
     "data": {
      "text/plain": [
       "array(['others', 6.0, 14.0, 2.0, 8.0, 15.0, 16.0, 11.0, 5.0, 3.0, 4.0,\n",
       "       12.0, 9.0, 10.0, 17.0, 13.0, 7.0, 18.0], dtype=object)"
      ]
     },
     "execution_count": 226,
     "metadata": {},
     "output_type": "execute_result"
    }
   ],
   "source": [
    "friday.Product_Category_2.unique()"
   ]
  },
  {
   "cell_type": "code",
   "execution_count": 227,
   "id": "a90a8a88",
   "metadata": {},
   "outputs": [
    {
     "name": "stderr",
     "output_type": "stream",
     "text": [
      "C:\\Users\\karthika\\anaconda3\\lib\\site-packages\\seaborn\\_decorators.py:36: FutureWarning: Pass the following variable as a keyword arg: x. From version 0.12, the only valid positional argument will be `data`, and passing other arguments without an explicit keyword will result in an error or misinterpretation.\n",
      "  warnings.warn(\n"
     ]
    },
    {
     "data": {
      "text/plain": [
       "<AxesSubplot:xlabel='Product_Category_2', ylabel='count'>"
      ]
     },
     "execution_count": 227,
     "metadata": {},
     "output_type": "execute_result"
    },
    {
     "data": {
      "image/png": "[encoded data removed]",
      "text/plain": [
       "<Figure size 432x288 with 1 Axes>"
      ]
     },
     "metadata": {
      "needs_background": "light"
     },
     "output_type": "display_data"
    }
   ],
   "source": [
    "sns.countplot(friday.Product_Category_2)"
   ]
  },
  {
   "cell_type": "code",
   "execution_count": 228,
   "id": "96e662f1",
   "metadata": {},
   "outputs": [],
   "source": [
    "friday.drop([\"Product_Category_3\",\"User_ID\",\"Product_ID\"],axis=1,inplace=True)"
   ]
  },
  {
   "cell_type": "code",
   "execution_count": 229,
   "id": "ee299d10",
   "metadata": {},
   "outputs": [
    {
     "data": {
      "text/plain": [
       "Index(['Gender', 'Age', 'Occupation', 'City_Category',\n",
       "       'Stay_In_Current_City_Years', 'Marital_Status', 'Product_Category_1',\n",
       "       'Product_Category_2', 'Purchase'],\n",
       "      dtype='object')"
      ]
     },
     "execution_count": 229,
     "metadata": {},
     "output_type": "execute_result"
    }
   ],
   "source": [
    "friday.columns"
   ]
  },
  {
   "cell_type": "code",
   "execution_count": 230,
   "id": "c55ba686",
   "metadata": {},
   "outputs": [],
   "source": [
    "dummy_var=pd.get_dummies(friday)"
   ]
  },
  {
   "cell_type": "code",
   "execution_count": 231,
   "id": "1be2492c",
   "metadata": {},
   "outputs": [
    {
     "data": {
      "text/plain": [
       "Index(['Occupation', 'Marital_Status', 'Product_Category_1', 'Purchase',\n",
       "       'Gender_F', 'Gender_M', 'Age_0-17', 'Age_18-25', 'Age_26-35',\n",
       "       'Age_36-45', 'Age_46-50', 'Age_51-55', 'Age_55+', 'City_Category_A',\n",
       "       'City_Category_B', 'City_Category_C', 'Stay_In_Current_City_Years_0',\n",
       "       'Stay_In_Current_City_Years_1', 'Stay_In_Current_City_Years_2',\n",
       "       'Stay_In_Current_City_Years_3', 'Stay_In_Current_City_Years_4+',\n",
       "       'Product_Category_2_2.0', 'Product_Category_2_3.0',\n",
       "       'Product_Category_2_4.0', 'Product_Category_2_5.0',\n",
       "       'Product_Category_2_6.0', 'Product_Category_2_7.0',\n",
       "       'Product_Category_2_8.0', 'Product_Category_2_9.0',\n",
       "       'Product_Category_2_10.0', 'Product_Category_2_11.0',\n",
       "       'Product_Category_2_12.0', 'Product_Category_2_13.0',\n",
       "       'Product_Category_2_14.0', 'Product_Category_2_15.0',\n",
       "       'Product_Category_2_16.0', 'Product_Category_2_17.0',\n",
       "       'Product_Category_2_18.0', 'Product_Category_2_others'],\n",
       "      dtype='object')"
      ]
     },
     "execution_count": 231,
     "metadata": {},
     "output_type": "execute_result"
    }
   ],
   "source": [
    "dummy_var.columns"
   ]
  },
  {
   "cell_type": "code",
   "execution_count": 232,
   "id": "f5fe3e2d",
   "metadata": {},
   "outputs": [],
   "source": [
    "from sklearn.model_selection import train_test_split\n",
    "from sklearn.linear_model import LogisticRegression as LR\n",
    "from sklearn.tree import DecisionTreeClassifier \n",
    "from sklearn.linear_model import LinearRegression as LS"
   ]
  },
  {
   "cell_type": "code",
   "execution_count": 233,
   "id": "03a91384",
   "metadata": {},
   "outputs": [],
   "source": [
    "from sklearn.preprocessing import MinMaxScaler\n",
    "scaler=MinMaxScaler()"
   ]
  },
  {
   "cell_type": "code",
   "execution_count": 234,
   "id": "4c8a6f53",
   "metadata": {},
   "outputs": [],
   "source": [
    "scaler_data=scaler.fit(dummy_var)\n",
    "scaler_data=scaler.transform(dummy_var)"
   ]
  },
  {
   "cell_type": "code",
   "execution_count": 235,
   "id": "226aa82c",
   "metadata": {},
   "outputs": [],
   "source": [
    "x=dummy_var.drop(\"Purchase\",axis=1)"
   ]
  },
  {
   "cell_type": "code",
   "execution_count": 236,
   "id": "58c34c50",
   "metadata": {},
   "outputs": [],
   "source": [
    "y=friday.Purchase"
   ]
  },
  {
   "cell_type": "code",
   "execution_count": 237,
   "id": "6aadc479",
   "metadata": {},
   "outputs": [
    {
     "data": {
      "text/html": [
       "<div>\n",
       "<style scoped>\n",
       "    .dataframe tbody tr th:only-of-type {\n",
       "        vertical-align: middle;\n",
       "    }\n",
       "\n",
       "    .dataframe tbody tr th {\n",
       "        vertical-align: top;\n",
       "    }\n",
       "\n",
       "    .dataframe thead th {\n",
       "        text-align: right;\n",
       "    }\n",
       "</style>\n",
       "<table border=\"1\" class=\"dataframe\">\n",
       "  <thead>\n",
       "    <tr style=\"text-align: right;\">\n",
       "      <th></th>\n",
       "      <th>Occupation</th>\n",
       "      <th>Marital_Status</th>\n",
       "      <th>Product_Category_1</th>\n",
       "      <th>Gender_F</th>\n",
       "      <th>Gender_M</th>\n",
       "      <th>Age_0-17</th>\n",
       "      <th>Age_18-25</th>\n",
       "      <th>Age_26-35</th>\n",
       "      <th>Age_36-45</th>\n",
       "      <th>Age_46-50</th>\n",
       "      <th>...</th>\n",
       "      <th>Product_Category_2_10.0</th>\n",
       "      <th>Product_Category_2_11.0</th>\n",
       "      <th>Product_Category_2_12.0</th>\n",
       "      <th>Product_Category_2_13.0</th>\n",
       "      <th>Product_Category_2_14.0</th>\n",
       "      <th>Product_Category_2_15.0</th>\n",
       "      <th>Product_Category_2_16.0</th>\n",
       "      <th>Product_Category_2_17.0</th>\n",
       "      <th>Product_Category_2_18.0</th>\n",
       "      <th>Product_Category_2_others</th>\n",
       "    </tr>\n",
       "  </thead>\n",
       "  <tbody>\n",
       "    <tr>\n",
       "      <th>0</th>\n",
       "      <td>10</td>\n",
       "      <td>0</td>\n",
       "      <td>3</td>\n",
       "      <td>1</td>\n",
       "      <td>0</td>\n",
       "      <td>1</td>\n",
       "      <td>0</td>\n",
       "      <td>0</td>\n",
       "      <td>0</td>\n",
       "      <td>0</td>\n",
       "      <td>...</td>\n",
       "      <td>0</td>\n",
       "      <td>0</td>\n",
       "      <td>0</td>\n",
       "      <td>0</td>\n",
       "      <td>0</td>\n",
       "      <td>0</td>\n",
       "      <td>0</td>\n",
       "      <td>0</td>\n",
       "      <td>0</td>\n",
       "      <td>1</td>\n",
       "    </tr>\n",
       "    <tr>\n",
       "      <th>1</th>\n",
       "      <td>10</td>\n",
       "      <td>0</td>\n",
       "      <td>1</td>\n",
       "      <td>1</td>\n",
       "      <td>0</td>\n",
       "      <td>1</td>\n",
       "      <td>0</td>\n",
       "      <td>0</td>\n",
       "      <td>0</td>\n",
       "      <td>0</td>\n",
       "      <td>...</td>\n",
       "      <td>0</td>\n",
       "      <td>0</td>\n",
       "      <td>0</td>\n",
       "      <td>0</td>\n",
       "      <td>0</td>\n",
       "      <td>0</td>\n",
       "      <td>0</td>\n",
       "      <td>0</td>\n",
       "      <td>0</td>\n",
       "      <td>0</td>\n",
       "    </tr>\n",
       "    <tr>\n",
       "      <th>2</th>\n",
       "      <td>10</td>\n",
       "      <td>0</td>\n",
       "      <td>12</td>\n",
       "      <td>1</td>\n",
       "      <td>0</td>\n",
       "      <td>1</td>\n",
       "      <td>0</td>\n",
       "      <td>0</td>\n",
       "      <td>0</td>\n",
       "      <td>0</td>\n",
       "      <td>...</td>\n",
       "      <td>0</td>\n",
       "      <td>0</td>\n",
       "      <td>0</td>\n",
       "      <td>0</td>\n",
       "      <td>0</td>\n",
       "      <td>0</td>\n",
       "      <td>0</td>\n",
       "      <td>0</td>\n",
       "      <td>0</td>\n",
       "      <td>1</td>\n",
       "    </tr>\n",
       "    <tr>\n",
       "      <th>3</th>\n",
       "      <td>10</td>\n",
       "      <td>0</td>\n",
       "      <td>12</td>\n",
       "      <td>1</td>\n",
       "      <td>0</td>\n",
       "      <td>1</td>\n",
       "      <td>0</td>\n",
       "      <td>0</td>\n",
       "      <td>0</td>\n",
       "      <td>0</td>\n",
       "      <td>...</td>\n",
       "      <td>0</td>\n",
       "      <td>0</td>\n",
       "      <td>0</td>\n",
       "      <td>0</td>\n",
       "      <td>1</td>\n",
       "      <td>0</td>\n",
       "      <td>0</td>\n",
       "      <td>0</td>\n",
       "      <td>0</td>\n",
       "      <td>0</td>\n",
       "    </tr>\n",
       "    <tr>\n",
       "      <th>4</th>\n",
       "      <td>16</td>\n",
       "      <td>0</td>\n",
       "      <td>8</td>\n",
       "      <td>0</td>\n",
       "      <td>1</td>\n",
       "      <td>0</td>\n",
       "      <td>0</td>\n",
       "      <td>0</td>\n",
       "      <td>0</td>\n",
       "      <td>0</td>\n",
       "      <td>...</td>\n",
       "      <td>0</td>\n",
       "      <td>0</td>\n",
       "      <td>0</td>\n",
       "      <td>0</td>\n",
       "      <td>0</td>\n",
       "      <td>0</td>\n",
       "      <td>0</td>\n",
       "      <td>0</td>\n",
       "      <td>0</td>\n",
       "      <td>1</td>\n",
       "    </tr>\n",
       "  </tbody>\n",
       "</table>\n",
       "<p>5 rows × 38 columns</p>\n",
       "</div>"
      ],
      "text/plain": [
       "   Occupation  Marital_Status  Product_Category_1  Gender_F  Gender_M  \\\n",
       "0          10               0                   3         1         0   \n",
       "1          10               0                   1         1         0   \n",
       "2          10               0                  12         1         0   \n",
       "3          10               0                  12         1         0   \n",
       "4          16               0                   8         0         1   \n",
       "\n",
       "   Age_0-17  Age_18-25  Age_26-35  Age_36-45  Age_46-50  ...  \\\n",
       "0         1          0          0          0          0  ...   \n",
       "1         1          0          0          0          0  ...   \n",
       "2         1          0          0          0          0  ...   \n",
       "3         1          0          0          0          0  ...   \n",
       "4         0          0          0          0          0  ...   \n",
       "\n",
       "   Product_Category_2_10.0  Product_Category_2_11.0  Product_Category_2_12.0  \\\n",
       "0                        0                        0                        0   \n",
       "1                        0                        0                        0   \n",
       "2                        0                        0                        0   \n",
       "3                        0                        0                        0   \n",
       "4                        0                        0                        0   \n",
       "\n",
       "   Product_Category_2_13.0  Product_Category_2_14.0  Product_Category_2_15.0  \\\n",
       "0                        0                        0                        0   \n",
       "1                        0                        0                        0   \n",
       "2                        0                        0                        0   \n",
       "3                        0                        1                        0   \n",
       "4                        0                        0                        0   \n",
       "\n",
       "   Product_Category_2_16.0  Product_Category_2_17.0  Product_Category_2_18.0  \\\n",
       "0                        0                        0                        0   \n",
       "1                        0                        0                        0   \n",
       "2                        0                        0                        0   \n",
       "3                        0                        0                        0   \n",
       "4                        0                        0                        0   \n",
       "\n",
       "   Product_Category_2_others  \n",
       "0                          1  \n",
       "1                          0  \n",
       "2                          1  \n",
       "3                          0  \n",
       "4                          1  \n",
       "\n",
       "[5 rows x 38 columns]"
      ]
     },
     "execution_count": 237,
     "metadata": {},
     "output_type": "execute_result"
    }
   ],
   "source": [
    "x.head()"
   ]
  },
  {
   "cell_type": "code",
   "execution_count": 238,
   "id": "adbb4f92",
   "metadata": {},
   "outputs": [
    {
     "data": {
      "text/plain": [
       "0     8370\n",
       "1    15200\n",
       "2     1422\n",
       "3     1057\n",
       "4     7969\n",
       "Name: Purchase, dtype: int64"
      ]
     },
     "execution_count": 238,
     "metadata": {},
     "output_type": "execute_result"
    }
   ],
   "source": [
    "y.head()"
   ]
  },
  {
   "cell_type": "code",
   "execution_count": 239,
   "id": "80c7824a",
   "metadata": {},
   "outputs": [],
   "source": [
    "train_x,test_x,train_y,test_y=train_test_split(x,y,test_size=0.2,random_state=100)"
   ]
  },
  {
   "cell_type": "code",
   "execution_count": 240,
   "id": "e449edaf",
   "metadata": {},
   "outputs": [],
   "source": [
    "model1=LS().fit(train_x,train_y)"
   ]
  },
  {
   "cell_type": "code",
   "execution_count": 241,
   "id": "0afd8c8c",
   "metadata": {},
   "outputs": [
    {
     "data": {
      "text/plain": [
       "0.20056074296066495"
      ]
     },
     "execution_count": 241,
     "metadata": {},
     "output_type": "execute_result"
    }
   ],
   "source": [
    "model1.score(train_x,train_y)"
   ]
  },
  {
   "cell_type": "code",
   "execution_count": 242,
   "id": "c1537926",
   "metadata": {},
   "outputs": [
    {
     "data": {
      "text/plain": [
       "0.20039055029134323"
      ]
     },
     "execution_count": 242,
     "metadata": {},
     "output_type": "execute_result"
    }
   ],
   "source": [
    "model1.score(x,y)"
   ]
  },
  {
   "cell_type": "markdown",
   "id": "bce64fef",
   "metadata": {},
   "source": [
    "<b>Random Forest</b>"
   ]
  },
  {
   "cell_type": "code",
   "execution_count": 243,
   "id": "d258a059",
   "metadata": {},
   "outputs": [
    {
     "data": {
      "text/plain": [
       "RandomForestRegressor(random_state=0)"
      ]
     },
     "execution_count": 243,
     "metadata": {},
     "output_type": "execute_result"
    }
   ],
   "source": [
    "from sklearn.ensemble import RandomForestRegressor\n",
    "regressor=RandomForestRegressor(n_estimators=100,random_state=0)\n",
    "regressor.fit(train_x,train_y)"
   ]
  },
  {
   "cell_type": "code",
   "execution_count": 171,
   "id": "b0b11756",
   "metadata": {},
   "outputs": [
    {
     "data": {
      "text/plain": [
       "0.7425871014421032"
      ]
     },
     "execution_count": 171,
     "metadata": {},
     "output_type": "execute_result"
    }
   ],
   "source": [
    "regressor.score(train_x,train_y)"
   ]
  },
  {
   "cell_type": "code",
   "execution_count": 172,
   "id": "a14c2e87",
   "metadata": {},
   "outputs": [
    {
     "data": {
      "text/plain": [
       "0.6403555150393627"
      ]
     },
     "execution_count": 172,
     "metadata": {},
     "output_type": "execute_result"
    }
   ],
   "source": [
    "regressor.score(test_x,test_y)"
   ]
  },
  {
   "cell_type": "markdown",
   "id": "d737fb49",
   "metadata": {},
   "source": [
    "<b>Gradient Boosting</b>"
   ]
  },
  {
   "cell_type": "code",
   "execution_count": 173,
   "id": "d19e141f",
   "metadata": {},
   "outputs": [
    {
     "data": {
      "text/plain": [
       "GradientBoostingRegressor(random_state=0)"
      ]
     },
     "execution_count": 173,
     "metadata": {},
     "output_type": "execute_result"
    }
   ],
   "source": [
    "from sklearn.ensemble import GradientBoostingRegressor\n",
    "regress=GradientBoostingRegressor(n_estimators=100,random_state=0)\n",
    "regress.fit(train_x,train_y)"
   ]
  },
  {
   "cell_type": "code",
   "execution_count": 174,
   "id": "02e4bb5f",
   "metadata": {},
   "outputs": [
    {
     "data": {
      "text/plain": [
       "0.6444191248202347"
      ]
     },
     "execution_count": 174,
     "metadata": {},
     "output_type": "execute_result"
    }
   ],
   "source": [
    "regress.score(train_x,train_y)"
   ]
  },
  {
   "cell_type": "code",
   "execution_count": 175,
   "id": "c3648c72",
   "metadata": {},
   "outputs": [
    {
     "data": {
      "text/plain": [
       "0.6411634981220404"
      ]
     },
     "execution_count": 175,
     "metadata": {},
     "output_type": "execute_result"
    }
   ],
   "source": [
    "regress.score(test_x,test_y)"
   ]
  },
  {
   "cell_type": "markdown",
   "id": "fd3c6c02",
   "metadata": {},
   "source": [
    "<b>Ada boost</b>"
   ]
  },
  {
   "cell_type": "code",
   "execution_count": 176,
   "id": "850674d8",
   "metadata": {},
   "outputs": [
    {
     "data": {
      "text/plain": [
       "AdaBoostRegressor(n_estimators=100, random_state=0)"
      ]
     },
     "execution_count": 176,
     "metadata": {},
     "output_type": "execute_result"
    }
   ],
   "source": [
    "from sklearn.ensemble import AdaBoostRegressor\n",
    "reg=AdaBoostRegressor(n_estimators=100,random_state=0)\n",
    "reg.fit(train_x,train_y)"
   ]
  },
  {
   "cell_type": "code",
   "execution_count": 177,
   "id": "bcead705",
   "metadata": {},
   "outputs": [
    {
     "data": {
      "text/plain": [
       "0.4371545707899882"
      ]
     },
     "execution_count": 177,
     "metadata": {},
     "output_type": "execute_result"
    }
   ],
   "source": [
    "reg.score(train_x,train_y)"
   ]
  },
  {
   "cell_type": "code",
   "execution_count": 178,
   "id": "18625a7c",
   "metadata": {},
   "outputs": [
    {
     "data": {
      "text/plain": [
       "0.4328702071906262"
      ]
     },
     "execution_count": 178,
     "metadata": {},
     "output_type": "execute_result"
    }
   ],
   "source": [
    "reg.score(test_x,test_y)"
   ]
  },
  {
   "cell_type": "markdown",
   "id": "f51071de",
   "metadata": {},
   "source": [
    "<b>PCA</b>"
   ]
  },
  {
   "cell_type": "code",
   "execution_count": 179,
   "id": "1d46c9d2",
   "metadata": {},
   "outputs": [],
   "source": [
    "from sklearn.decomposition import PCA"
   ]
  },
  {
   "cell_type": "code",
   "execution_count": 180,
   "id": "0b68a675",
   "metadata": {},
   "outputs": [
    {
     "data": {
      "text/plain": [
       "PCA()"
      ]
     },
     "execution_count": 180,
     "metadata": {},
     "output_type": "execute_result"
    }
   ],
   "source": [
    "pca = PCA()\n",
    "pca.fit(train_x,train_y)"
   ]
  },
  {
   "cell_type": "code",
   "execution_count": 181,
   "id": "35ac36e1",
   "metadata": {},
   "outputs": [],
   "source": [
    "k1=(pca.explained_variance_ratio_)"
   ]
  },
  {
   "cell_type": "code",
   "execution_count": 182,
   "id": "69dce592",
   "metadata": {},
   "outputs": [
    {
     "data": {
      "text/plain": [
       "[<matplotlib.lines.Line2D at 0x25c0be7e910>]"
      ]
     },
     "execution_count": 182,
     "metadata": {},
     "output_type": "execute_result"
    },
    {
     "data": {
      "image/png": "[encoded data removed]",
      "text/plain": [
       "<Figure size 432x288 with 1 Axes>"
      ]
     },
     "metadata": {
      "needs_background": "light"
     },
     "output_type": "display_data"
    }
   ],
   "source": [
    "plt.plot(k1)"
   ]
  },
  {
   "cell_type": "code",
   "execution_count": 183,
   "id": "493f06f0",
   "metadata": {},
   "outputs": [
    {
     "name": "stdout",
     "output_type": "stream",
     "text": [
      "[0.69027074 0.94204461 0.94808073 0.9540715  0.95942881 0.96416796\n",
      " 0.96851633 0.97251241 0.97574243 0.97878293 0.98166562 0.98424268\n",
      " 0.98651084 0.98829888 0.9898125  0.99125514 0.99250135 0.99371223\n",
      " 0.99486234 0.99571633 0.99648231 0.99719388 0.99774454 0.99820727\n",
      " 0.99864918 0.99904274 0.99935917 0.99954718 0.99971171 0.99981197\n",
      " 0.99989872 0.99998093 1.         1.         1.         1.\n",
      " 1.         1.        ]\n"
     ]
    }
   ],
   "source": [
    "cumulative=np.cumsum(k1)\n",
    "print(cumulative)"
   ]
  },
  {
   "cell_type": "code",
   "execution_count": 184,
   "id": "4a2cac44",
   "metadata": {},
   "outputs": [
    {
     "data": {
      "text/plain": [
       "[<matplotlib.lines.Line2D at 0x25c0b0d5850>]"
      ]
     },
     "execution_count": 184,
     "metadata": {},
     "output_type": "execute_result"
    },
    {
     "data": {
      "image/png": "[encoded data removed]",
      "text/plain": [
       "<Figure size 432x288 with 1 Axes>"
      ]
     },
     "metadata": {
      "needs_background": "light"
     },
     "output_type": "display_data"
    }
   ],
   "source": [
    "plt.plot(cumulative)"
   ]
  },
  {
   "cell_type": "code",
   "execution_count": 190,
   "id": "9d2779b2",
   "metadata": {},
   "outputs": [
    {
     "data": {
      "text/plain": [
       "PCA(n_components=35)"
      ]
     },
     "execution_count": 190,
     "metadata": {},
     "output_type": "execute_result"
    }
   ],
   "source": [
    "pca=PCA(n_components=35)\n",
    "pca.fit(train_x)"
   ]
  },
  {
   "cell_type": "code",
   "execution_count": 191,
   "id": "a4870851",
   "metadata": {},
   "outputs": [],
   "source": [
    "components=pca.transform(train_x)"
   ]
  },
  {
   "cell_type": "code",
   "execution_count": 244,
   "id": "c6cdcda7",
   "metadata": {},
   "outputs": [],
   "source": [
    "components=pd.DataFrame(components)"
   ]
  },
  {
   "cell_type": "code",
   "execution_count": 246,
   "id": "25a12d32",
   "metadata": {},
   "outputs": [
    {
     "data": {
      "text/html": [
       "<div>\n",
       "<style scoped>\n",
       "    .dataframe tbody tr th:only-of-type {\n",
       "        vertical-align: middle;\n",
       "    }\n",
       "\n",
       "    .dataframe tbody tr th {\n",
       "        vertical-align: top;\n",
       "    }\n",
       "\n",
       "    .dataframe thead th {\n",
       "        text-align: right;\n",
       "    }\n",
       "</style>\n",
       "<table border=\"1\" class=\"dataframe\">\n",
       "  <thead>\n",
       "    <tr style=\"text-align: right;\">\n",
       "      <th></th>\n",
       "      <th>0</th>\n",
       "      <th>1</th>\n",
       "      <th>2</th>\n",
       "      <th>3</th>\n",
       "      <th>4</th>\n",
       "      <th>5</th>\n",
       "      <th>6</th>\n",
       "      <th>7</th>\n",
       "      <th>8</th>\n",
       "      <th>9</th>\n",
       "      <th>...</th>\n",
       "      <th>25</th>\n",
       "      <th>26</th>\n",
       "      <th>27</th>\n",
       "      <th>28</th>\n",
       "      <th>29</th>\n",
       "      <th>30</th>\n",
       "      <th>31</th>\n",
       "      <th>32</th>\n",
       "      <th>33</th>\n",
       "      <th>34</th>\n",
       "    </tr>\n",
       "  </thead>\n",
       "  <tbody>\n",
       "    <tr>\n",
       "      <th>0</th>\n",
       "      <td>-4.027913</td>\n",
       "      <td>-4.443620</td>\n",
       "      <td>-0.494994</td>\n",
       "      <td>0.471058</td>\n",
       "      <td>0.038244</td>\n",
       "      <td>1.186697</td>\n",
       "      <td>-0.481934</td>\n",
       "      <td>-0.188588</td>\n",
       "      <td>-0.054133</td>\n",
       "      <td>-0.006260</td>\n",
       "      <td>...</td>\n",
       "      <td>0.020397</td>\n",
       "      <td>0.007977</td>\n",
       "      <td>-0.015930</td>\n",
       "      <td>0.003779</td>\n",
       "      <td>-0.008416</td>\n",
       "      <td>-0.008064</td>\n",
       "      <td>0.002110</td>\n",
       "      <td>-0.000714</td>\n",
       "      <td>3.457358e-16</td>\n",
       "      <td>4.189675e-16</td>\n",
       "    </tr>\n",
       "    <tr>\n",
       "      <th>1</th>\n",
       "      <td>1.970905</td>\n",
       "      <td>-4.398897</td>\n",
       "      <td>-0.300954</td>\n",
       "      <td>0.580897</td>\n",
       "      <td>-0.520943</td>\n",
       "      <td>0.602704</td>\n",
       "      <td>0.424850</td>\n",
       "      <td>-0.583683</td>\n",
       "      <td>0.012055</td>\n",
       "      <td>0.081124</td>\n",
       "      <td>...</td>\n",
       "      <td>0.040704</td>\n",
       "      <td>-0.015962</td>\n",
       "      <td>-0.024116</td>\n",
       "      <td>-0.000762</td>\n",
       "      <td>-0.010639</td>\n",
       "      <td>-0.008040</td>\n",
       "      <td>0.002956</td>\n",
       "      <td>-0.000516</td>\n",
       "      <td>2.142042e-15</td>\n",
       "      <td>1.078162e-15</td>\n",
       "    </tr>\n",
       "    <tr>\n",
       "      <th>2</th>\n",
       "      <td>-7.082693</td>\n",
       "      <td>-0.412586</td>\n",
       "      <td>0.498034</td>\n",
       "      <td>0.432574</td>\n",
       "      <td>1.326081</td>\n",
       "      <td>-0.593752</td>\n",
       "      <td>0.066941</td>\n",
       "      <td>-0.040890</td>\n",
       "      <td>0.690246</td>\n",
       "      <td>0.592425</td>\n",
       "      <td>...</td>\n",
       "      <td>0.023075</td>\n",
       "      <td>0.015234</td>\n",
       "      <td>-0.007416</td>\n",
       "      <td>0.000205</td>\n",
       "      <td>-0.000250</td>\n",
       "      <td>-0.004205</td>\n",
       "      <td>0.002836</td>\n",
       "      <td>-0.000163</td>\n",
       "      <td>-8.453687e-16</td>\n",
       "      <td>-4.319144e-16</td>\n",
       "    </tr>\n",
       "    <tr>\n",
       "      <th>3</th>\n",
       "      <td>-1.067567</td>\n",
       "      <td>-0.419322</td>\n",
       "      <td>-0.206944</td>\n",
       "      <td>-0.846189</td>\n",
       "      <td>0.311708</td>\n",
       "      <td>-0.215074</td>\n",
       "      <td>-0.344256</td>\n",
       "      <td>-0.578358</td>\n",
       "      <td>-0.454551</td>\n",
       "      <td>-0.039095</td>\n",
       "      <td>...</td>\n",
       "      <td>0.006219</td>\n",
       "      <td>0.003513</td>\n",
       "      <td>-0.008892</td>\n",
       "      <td>0.001016</td>\n",
       "      <td>-0.004715</td>\n",
       "      <td>-0.003356</td>\n",
       "      <td>0.000586</td>\n",
       "      <td>-0.000711</td>\n",
       "      <td>1.013566e-16</td>\n",
       "      <td>-6.848979e-17</td>\n",
       "    </tr>\n",
       "    <tr>\n",
       "      <th>4</th>\n",
       "      <td>-8.113212</td>\n",
       "      <td>5.559042</td>\n",
       "      <td>-0.156083</td>\n",
       "      <td>-0.725549</td>\n",
       "      <td>-0.681222</td>\n",
       "      <td>-0.609467</td>\n",
       "      <td>0.093758</td>\n",
       "      <td>0.065741</td>\n",
       "      <td>0.340322</td>\n",
       "      <td>0.490922</td>\n",
       "      <td>...</td>\n",
       "      <td>-0.030215</td>\n",
       "      <td>-0.022911</td>\n",
       "      <td>-0.003237</td>\n",
       "      <td>-0.003379</td>\n",
       "      <td>-0.001070</td>\n",
       "      <td>0.004334</td>\n",
       "      <td>-0.003207</td>\n",
       "      <td>-0.000774</td>\n",
       "      <td>-8.262868e-16</td>\n",
       "      <td>2.084847e-17</td>\n",
       "    </tr>\n",
       "  </tbody>\n",
       "</table>\n",
       "<p>5 rows × 35 columns</p>\n",
       "</div>"
      ],
      "text/plain": [
       "         0         1         2         3         4         5         6   \\\n",
       "0 -4.027913 -4.443620 -0.494994  0.471058  0.038244  1.186697 -0.481934   \n",
       "1  1.970905 -4.398897 -0.300954  0.580897 -0.520943  0.602704  0.424850   \n",
       "2 -7.082693 -0.412586  0.498034  0.432574  1.326081 -0.593752  0.066941   \n",
       "3 -1.067567 -0.419322 -0.206944 -0.846189  0.311708 -0.215074 -0.344256   \n",
       "4 -8.113212  5.559042 -0.156083 -0.725549 -0.681222 -0.609467  0.093758   \n",
       "\n",
       "         7         8         9   ...        25        26        27        28  \\\n",
       "0 -0.188588 -0.054133 -0.006260  ...  0.020397  0.007977 -0.015930  0.003779   \n",
       "1 -0.583683  0.012055  0.081124  ...  0.040704 -0.015962 -0.024116 -0.000762   \n",
       "2 -0.040890  0.690246  0.592425  ...  0.023075  0.015234 -0.007416  0.000205   \n",
       "3 -0.578358 -0.454551 -0.039095  ...  0.006219  0.003513 -0.008892  0.001016   \n",
       "4  0.065741  0.340322  0.490922  ... -0.030215 -0.022911 -0.003237 -0.003379   \n",
       "\n",
       "         29        30        31        32            33            34  \n",
       "0 -0.008416 -0.008064  0.002110 -0.000714  3.457358e-16  4.189675e-16  \n",
       "1 -0.010639 -0.008040  0.002956 -0.000516  2.142042e-15  1.078162e-15  \n",
       "2 -0.000250 -0.004205  0.002836 -0.000163 -8.453687e-16 -4.319144e-16  \n",
       "3 -0.004715 -0.003356  0.000586 -0.000711  1.013566e-16 -6.848979e-17  \n",
       "4 -0.001070  0.004334 -0.003207 -0.000774 -8.262868e-16  2.084847e-17  \n",
       "\n",
       "[5 rows x 35 columns]"
      ]
     },
     "execution_count": 246,
     "metadata": {},
     "output_type": "execute_result"
    }
   ],
   "source": [
    "components.head()"
   ]
  },
  {
   "cell_type": "code",
   "execution_count": null,
   "id": "af403516",
   "metadata": {},
   "outputs": [],
   "source": []
  }
 ],
 "metadata": {
  "kernelspec": {
   "display_name": "Python 3 (ipykernel)",
   "language": "python",
   "name": "python3"
  },
  "language_info": {
   "codemirror_mode": {
    "name": "ipython",
    "version": 3
   },
   "file_extension": ".py",
   "mimetype": "text/x-python",
   "name": "python",
   "nbconvert_exporter": "python",
   "pygments_lexer": "ipython3",
   "version": "3.9.7"
  }
 },
 "nbformat": 4,
 "nbformat_minor": 5
}
